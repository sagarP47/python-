{
 "cells": [
  {
   "cell_type": "code",
   "execution_count": 7,
   "metadata": {},
   "outputs": [],
   "source": [
    "import numpy as np\n",
    "import pandas as pd"
   ]
  },
  {
   "cell_type": "code",
   "execution_count": 10,
   "metadata": {
    "scrolled": true
   },
   "outputs": [
    {
     "data": {
      "text/html": [
       "<div>\n",
       "<style scoped>\n",
       "    .dataframe tbody tr th:only-of-type {\n",
       "        vertical-align: middle;\n",
       "    }\n",
       "\n",
       "    .dataframe tbody tr th {\n",
       "        vertical-align: top;\n",
       "    }\n",
       "\n",
       "    .dataframe thead th {\n",
       "        text-align: right;\n",
       "    }\n",
       "</style>\n",
       "<table border=\"1\" class=\"dataframe\">\n",
       "  <thead>\n",
       "    <tr style=\"text-align: right;\">\n",
       "      <th></th>\n",
       "      <th>Stadium</th>\n",
       "      <th>Capacity</th>\n",
       "      <th>Game(s)</th>\n",
       "      <th>City</th>\n",
       "      <th>State</th>\n",
       "    </tr>\n",
       "  </thead>\n",
       "  <tbody>\n",
       "    <tr>\n",
       "      <th>0</th>\n",
       "      <td>Aishbagh Stadium</td>\n",
       "      <td>10000</td>\n",
       "      <td>Field hockey pictogram.svg Hockey</td>\n",
       "      <td>Bhopal</td>\n",
       "      <td>Madhya Pradesh</td>\n",
       "    </tr>\n",
       "    <tr>\n",
       "      <th>1</th>\n",
       "      <td>Ambedkar Stadium</td>\n",
       "      <td>20000</td>\n",
       "      <td>Football pictogram.svg Football (soccer)</td>\n",
       "      <td>Delhi</td>\n",
       "      <td>Delhi NCR</td>\n",
       "    </tr>\n",
       "    <tr>\n",
       "      <th>2</th>\n",
       "      <td>Baichung Stadium</td>\n",
       "      <td>30000</td>\n",
       "      <td>Football pictogram.svg Football (soccer)</td>\n",
       "      <td>Namchi</td>\n",
       "      <td>Sikkim</td>\n",
       "    </tr>\n",
       "    <tr>\n",
       "      <th>3</th>\n",
       "      <td>Bakhshi Stadium</td>\n",
       "      <td>30000</td>\n",
       "      <td>Football pictogram.svg Football (soccer)</td>\n",
       "      <td>Srinagar</td>\n",
       "      <td>Jammu and Kashmir</td>\n",
       "    </tr>\n",
       "    <tr>\n",
       "      <th>4</th>\n",
       "      <td>Barabati Stadium</td>\n",
       "      <td>45000</td>\n",
       "      <td>Cricket pictogram.svg Cricket</td>\n",
       "      <td>Cuttack</td>\n",
       "      <td>Odisha</td>\n",
       "    </tr>\n",
       "  </tbody>\n",
       "</table>\n",
       "</div>"
      ],
      "text/plain": [
       "            Stadium  Capacity                                   Game(s)  \\\n",
       "0  Aishbagh Stadium     10000         Field hockey pictogram.svg Hockey   \n",
       "1  Ambedkar Stadium     20000  Football pictogram.svg Football (soccer)   \n",
       "2  Baichung Stadium     30000  Football pictogram.svg Football (soccer)   \n",
       "3   Bakhshi Stadium     30000  Football pictogram.svg Football (soccer)   \n",
       "4  Barabati Stadium     45000             Cricket pictogram.svg Cricket   \n",
       "\n",
       "       City              State  \n",
       "0    Bhopal     Madhya Pradesh  \n",
       "1     Delhi          Delhi NCR  \n",
       "2    Namchi             Sikkim  \n",
       "3  Srinagar  Jammu and Kashmir  \n",
       "4   Cuttack             Odisha  "
      ]
     },
     "execution_count": 10,
     "metadata": {},
     "output_type": "execute_result"
    }
   ],
   "source": [
    "df = pd.read_excel(\"E:\\Praxis\\DV\\Stadium capacity.xlsx\")\n",
    "df.head()"
   ]
  },
  {
   "cell_type": "code",
   "execution_count": 12,
   "metadata": {},
   "outputs": [
    {
     "data": {
      "text/plain": [
       "(121, 5)"
      ]
     },
     "execution_count": 12,
     "metadata": {},
     "output_type": "execute_result"
    }
   ],
   "source": [
    "df.shape"
   ]
  },
  {
   "cell_type": "code",
   "execution_count": 11,
   "metadata": {},
   "outputs": [],
   "source": [
    "import re"
   ]
  },
  {
   "cell_type": "code",
   "execution_count": 17,
   "metadata": {},
   "outputs": [],
   "source": [
    "hockey = []\n",
    "for i in range(len(df)):\n",
    "    s = re.findall(r\"hockey\",df[\"Game(s)\"][i])\n",
    "    if \"hockey\" in s:\n",
    "        hockey.append(i)"
   ]
  },
  {
   "cell_type": "code",
   "execution_count": 18,
   "metadata": {},
   "outputs": [
    {
     "data": {
      "text/plain": [
       "10"
      ]
     },
     "execution_count": 18,
     "metadata": {},
     "output_type": "execute_result"
    }
   ],
   "source": [
    "len(hockey)"
   ]
  },
  {
   "cell_type": "code",
   "execution_count": 19,
   "metadata": {},
   "outputs": [
    {
     "data": {
      "text/plain": [
       "[0, 20, 21, 42, 48, 49, 77, 104, 105, 119]"
      ]
     },
     "execution_count": 19,
     "metadata": {},
     "output_type": "execute_result"
    }
   ],
   "source": [
    "hockey"
   ]
  },
  {
   "cell_type": "code",
   "execution_count": 20,
   "metadata": {},
   "outputs": [],
   "source": [
    "Hockey = []\n",
    "for i in range(len(df)):\n",
    "    if i in hockey:\n",
    "        Hockey.append('Yes')\n",
    "    else :\n",
    "        Hockey.append('No')"
   ]
  },
  {
   "cell_type": "code",
   "execution_count": 22,
   "metadata": {},
   "outputs": [],
   "source": [
    "cricket = []\n",
    "for i in range(len(df)):\n",
    "    s = re.findall(r\"Cricket\",df[\"Game(s)\"][i])\n",
    "    if \"Cricket\" in s:\n",
    "        cricket.append(i)"
   ]
  },
  {
   "cell_type": "code",
   "execution_count": 23,
   "metadata": {},
   "outputs": [
    {
     "data": {
      "text/plain": [
       "56"
      ]
     },
     "execution_count": 23,
     "metadata": {},
     "output_type": "execute_result"
    }
   ],
   "source": [
    "len(cricket)"
   ]
  },
  {
   "cell_type": "code",
   "execution_count": 24,
   "metadata": {},
   "outputs": [],
   "source": [
    "Cricket = []\n",
    "for i in range(len(df)):\n",
    "    if i in cricket:\n",
    "        Cricket.append('Yes')\n",
    "    else :\n",
    "        Cricket.append('No')"
   ]
  },
  {
   "cell_type": "code",
   "execution_count": 25,
   "metadata": {},
   "outputs": [],
   "source": [
    "football = []\n",
    "for i in range(len(df)):\n",
    "    s = re.findall(r\"Football\",df[\"Game(s)\"][i])\n",
    "    if \"Football\" in s:\n",
    "        football.append(i)"
   ]
  },
  {
   "cell_type": "code",
   "execution_count": 26,
   "metadata": {},
   "outputs": [],
   "source": [
    "Football = []\n",
    "for i in range(len(df)):\n",
    "    if i in football:\n",
    "        Football.append('Yes')\n",
    "    else :\n",
    "        Football.append('No')"
   ]
  },
  {
   "cell_type": "code",
   "execution_count": 27,
   "metadata": {},
   "outputs": [],
   "source": [
    "athletics = []\n",
    "for i in range(len(df)):\n",
    "    s = re.findall(r\"Athletics\",df[\"Game(s)\"][i])\n",
    "    if \"Athletics\" in s:\n",
    "        athletics.append(i)"
   ]
  },
  {
   "cell_type": "code",
   "execution_count": 28,
   "metadata": {},
   "outputs": [],
   "source": [
    "Athletics = []\n",
    "for i in range(len(df)):\n",
    "    if i in athletics:\n",
    "        Athletics.append('Yes')\n",
    "    else :\n",
    "        Athletics.append('No')"
   ]
  },
  {
   "cell_type": "code",
   "execution_count": 29,
   "metadata": {},
   "outputs": [
    {
     "data": {
      "text/plain": [
       "12"
      ]
     },
     "execution_count": 29,
     "metadata": {},
     "output_type": "execute_result"
    }
   ],
   "source": [
    "len(athletics)"
   ]
  },
  {
   "cell_type": "code",
   "execution_count": 30,
   "metadata": {},
   "outputs": [],
   "source": [
    "df['Hockey'] = Hockey\n",
    "df['Cricket'] = Cricket\n",
    "df['Football'] = Football\n",
    "df['Athletics'] = Athletics"
   ]
  },
  {
   "cell_type": "code",
   "execution_count": 31,
   "metadata": {},
   "outputs": [
    {
     "data": {
      "text/html": [
       "<div>\n",
       "<style scoped>\n",
       "    .dataframe tbody tr th:only-of-type {\n",
       "        vertical-align: middle;\n",
       "    }\n",
       "\n",
       "    .dataframe tbody tr th {\n",
       "        vertical-align: top;\n",
       "    }\n",
       "\n",
       "    .dataframe thead th {\n",
       "        text-align: right;\n",
       "    }\n",
       "</style>\n",
       "<table border=\"1\" class=\"dataframe\">\n",
       "  <thead>\n",
       "    <tr style=\"text-align: right;\">\n",
       "      <th></th>\n",
       "      <th>Stadium</th>\n",
       "      <th>Capacity</th>\n",
       "      <th>Game(s)</th>\n",
       "      <th>City</th>\n",
       "      <th>State</th>\n",
       "      <th>Hockey</th>\n",
       "      <th>Cricket</th>\n",
       "      <th>Football</th>\n",
       "      <th>Athletics</th>\n",
       "    </tr>\n",
       "  </thead>\n",
       "  <tbody>\n",
       "    <tr>\n",
       "      <th>0</th>\n",
       "      <td>Aishbagh Stadium</td>\n",
       "      <td>10000</td>\n",
       "      <td>Field hockey pictogram.svg Hockey</td>\n",
       "      <td>Bhopal</td>\n",
       "      <td>Madhya Pradesh</td>\n",
       "      <td>Yes</td>\n",
       "      <td>No</td>\n",
       "      <td>No</td>\n",
       "      <td>No</td>\n",
       "    </tr>\n",
       "    <tr>\n",
       "      <th>1</th>\n",
       "      <td>Ambedkar Stadium</td>\n",
       "      <td>20000</td>\n",
       "      <td>Football pictogram.svg Football (soccer)</td>\n",
       "      <td>Delhi</td>\n",
       "      <td>Delhi NCR</td>\n",
       "      <td>No</td>\n",
       "      <td>No</td>\n",
       "      <td>Yes</td>\n",
       "      <td>No</td>\n",
       "    </tr>\n",
       "    <tr>\n",
       "      <th>2</th>\n",
       "      <td>Baichung Stadium</td>\n",
       "      <td>30000</td>\n",
       "      <td>Football pictogram.svg Football (soccer)</td>\n",
       "      <td>Namchi</td>\n",
       "      <td>Sikkim</td>\n",
       "      <td>No</td>\n",
       "      <td>No</td>\n",
       "      <td>Yes</td>\n",
       "      <td>No</td>\n",
       "    </tr>\n",
       "    <tr>\n",
       "      <th>3</th>\n",
       "      <td>Bakhshi Stadium</td>\n",
       "      <td>30000</td>\n",
       "      <td>Football pictogram.svg Football (soccer)</td>\n",
       "      <td>Srinagar</td>\n",
       "      <td>Jammu and Kashmir</td>\n",
       "      <td>No</td>\n",
       "      <td>No</td>\n",
       "      <td>Yes</td>\n",
       "      <td>No</td>\n",
       "    </tr>\n",
       "    <tr>\n",
       "      <th>4</th>\n",
       "      <td>Barabati Stadium</td>\n",
       "      <td>45000</td>\n",
       "      <td>Cricket pictogram.svg Cricket</td>\n",
       "      <td>Cuttack</td>\n",
       "      <td>Odisha</td>\n",
       "      <td>No</td>\n",
       "      <td>Yes</td>\n",
       "      <td>No</td>\n",
       "      <td>No</td>\n",
       "    </tr>\n",
       "  </tbody>\n",
       "</table>\n",
       "</div>"
      ],
      "text/plain": [
       "            Stadium  Capacity                                   Game(s)  \\\n",
       "0  Aishbagh Stadium     10000         Field hockey pictogram.svg Hockey   \n",
       "1  Ambedkar Stadium     20000  Football pictogram.svg Football (soccer)   \n",
       "2  Baichung Stadium     30000  Football pictogram.svg Football (soccer)   \n",
       "3   Bakhshi Stadium     30000  Football pictogram.svg Football (soccer)   \n",
       "4  Barabati Stadium     45000             Cricket pictogram.svg Cricket   \n",
       "\n",
       "       City              State Hockey Cricket Football Athletics  \n",
       "0    Bhopal     Madhya Pradesh    Yes      No       No        No  \n",
       "1     Delhi          Delhi NCR     No      No      Yes        No  \n",
       "2    Namchi             Sikkim     No      No      Yes        No  \n",
       "3  Srinagar  Jammu and Kashmir     No      No      Yes        No  \n",
       "4   Cuttack             Odisha     No     Yes       No        No  "
      ]
     },
     "execution_count": 31,
     "metadata": {},
     "output_type": "execute_result"
    }
   ],
   "source": [
    "df.head()"
   ]
  },
  {
   "cell_type": "code",
   "execution_count": 32,
   "metadata": {},
   "outputs": [],
   "source": [
    "df2 = df.drop(['Game(s)'],1)"
   ]
  },
  {
   "cell_type": "code",
   "execution_count": 33,
   "metadata": {},
   "outputs": [
    {
     "data": {
      "text/html": [
       "<div>\n",
       "<style scoped>\n",
       "    .dataframe tbody tr th:only-of-type {\n",
       "        vertical-align: middle;\n",
       "    }\n",
       "\n",
       "    .dataframe tbody tr th {\n",
       "        vertical-align: top;\n",
       "    }\n",
       "\n",
       "    .dataframe thead th {\n",
       "        text-align: right;\n",
       "    }\n",
       "</style>\n",
       "<table border=\"1\" class=\"dataframe\">\n",
       "  <thead>\n",
       "    <tr style=\"text-align: right;\">\n",
       "      <th></th>\n",
       "      <th>Stadium</th>\n",
       "      <th>Capacity</th>\n",
       "      <th>City</th>\n",
       "      <th>State</th>\n",
       "      <th>Hockey</th>\n",
       "      <th>Cricket</th>\n",
       "      <th>Football</th>\n",
       "      <th>Athletics</th>\n",
       "    </tr>\n",
       "  </thead>\n",
       "  <tbody>\n",
       "    <tr>\n",
       "      <th>0</th>\n",
       "      <td>Aishbagh Stadium</td>\n",
       "      <td>10000</td>\n",
       "      <td>Bhopal</td>\n",
       "      <td>Madhya Pradesh</td>\n",
       "      <td>Yes</td>\n",
       "      <td>No</td>\n",
       "      <td>No</td>\n",
       "      <td>No</td>\n",
       "    </tr>\n",
       "    <tr>\n",
       "      <th>1</th>\n",
       "      <td>Ambedkar Stadium</td>\n",
       "      <td>20000</td>\n",
       "      <td>Delhi</td>\n",
       "      <td>Delhi NCR</td>\n",
       "      <td>No</td>\n",
       "      <td>No</td>\n",
       "      <td>Yes</td>\n",
       "      <td>No</td>\n",
       "    </tr>\n",
       "    <tr>\n",
       "      <th>2</th>\n",
       "      <td>Baichung Stadium</td>\n",
       "      <td>30000</td>\n",
       "      <td>Namchi</td>\n",
       "      <td>Sikkim</td>\n",
       "      <td>No</td>\n",
       "      <td>No</td>\n",
       "      <td>Yes</td>\n",
       "      <td>No</td>\n",
       "    </tr>\n",
       "    <tr>\n",
       "      <th>3</th>\n",
       "      <td>Bakhshi Stadium</td>\n",
       "      <td>30000</td>\n",
       "      <td>Srinagar</td>\n",
       "      <td>Jammu and Kashmir</td>\n",
       "      <td>No</td>\n",
       "      <td>No</td>\n",
       "      <td>Yes</td>\n",
       "      <td>No</td>\n",
       "    </tr>\n",
       "    <tr>\n",
       "      <th>4</th>\n",
       "      <td>Barabati Stadium</td>\n",
       "      <td>45000</td>\n",
       "      <td>Cuttack</td>\n",
       "      <td>Odisha</td>\n",
       "      <td>No</td>\n",
       "      <td>Yes</td>\n",
       "      <td>No</td>\n",
       "      <td>No</td>\n",
       "    </tr>\n",
       "  </tbody>\n",
       "</table>\n",
       "</div>"
      ],
      "text/plain": [
       "            Stadium  Capacity      City              State Hockey Cricket  \\\n",
       "0  Aishbagh Stadium     10000    Bhopal     Madhya Pradesh    Yes      No   \n",
       "1  Ambedkar Stadium     20000     Delhi          Delhi NCR     No      No   \n",
       "2  Baichung Stadium     30000    Namchi             Sikkim     No      No   \n",
       "3   Bakhshi Stadium     30000  Srinagar  Jammu and Kashmir     No      No   \n",
       "4  Barabati Stadium     45000   Cuttack             Odisha     No     Yes   \n",
       "\n",
       "  Football Athletics  \n",
       "0       No        No  \n",
       "1      Yes        No  \n",
       "2      Yes        No  \n",
       "3      Yes        No  \n",
       "4       No        No  "
      ]
     },
     "execution_count": 33,
     "metadata": {},
     "output_type": "execute_result"
    }
   ],
   "source": [
    "df2.head()"
   ]
  },
  {
   "cell_type": "code",
   "execution_count": 37,
   "metadata": {},
   "outputs": [],
   "source": [
    "search = []\n",
    "for i in range(len(df2)):\n",
    "    a = df2['City'][i]\n",
    "    b = a + ' coordinates'\n",
    "    search.append(b)"
   ]
  },
  {
   "cell_type": "code",
   "execution_count": 39,
   "metadata": {},
   "outputs": [],
   "source": [
    "df2['search'] = search"
   ]
  },
  {
   "cell_type": "code",
   "execution_count": 40,
   "metadata": {},
   "outputs": [
    {
     "data": {
      "text/html": [
       "<div>\n",
       "<style scoped>\n",
       "    .dataframe tbody tr th:only-of-type {\n",
       "        vertical-align: middle;\n",
       "    }\n",
       "\n",
       "    .dataframe tbody tr th {\n",
       "        vertical-align: top;\n",
       "    }\n",
       "\n",
       "    .dataframe thead th {\n",
       "        text-align: right;\n",
       "    }\n",
       "</style>\n",
       "<table border=\"1\" class=\"dataframe\">\n",
       "  <thead>\n",
       "    <tr style=\"text-align: right;\">\n",
       "      <th></th>\n",
       "      <th>Stadium</th>\n",
       "      <th>Capacity</th>\n",
       "      <th>City</th>\n",
       "      <th>State</th>\n",
       "      <th>Hockey</th>\n",
       "      <th>Cricket</th>\n",
       "      <th>Football</th>\n",
       "      <th>Athletics</th>\n",
       "      <th>search</th>\n",
       "    </tr>\n",
       "  </thead>\n",
       "  <tbody>\n",
       "    <tr>\n",
       "      <th>0</th>\n",
       "      <td>Aishbagh Stadium</td>\n",
       "      <td>10000</td>\n",
       "      <td>Bhopal</td>\n",
       "      <td>Madhya Pradesh</td>\n",
       "      <td>Yes</td>\n",
       "      <td>No</td>\n",
       "      <td>No</td>\n",
       "      <td>No</td>\n",
       "      <td>Bhopal coordinates</td>\n",
       "    </tr>\n",
       "    <tr>\n",
       "      <th>1</th>\n",
       "      <td>Ambedkar Stadium</td>\n",
       "      <td>20000</td>\n",
       "      <td>Delhi</td>\n",
       "      <td>Delhi NCR</td>\n",
       "      <td>No</td>\n",
       "      <td>No</td>\n",
       "      <td>Yes</td>\n",
       "      <td>No</td>\n",
       "      <td>Delhi coordinates</td>\n",
       "    </tr>\n",
       "    <tr>\n",
       "      <th>2</th>\n",
       "      <td>Baichung Stadium</td>\n",
       "      <td>30000</td>\n",
       "      <td>Namchi</td>\n",
       "      <td>Sikkim</td>\n",
       "      <td>No</td>\n",
       "      <td>No</td>\n",
       "      <td>Yes</td>\n",
       "      <td>No</td>\n",
       "      <td>Namchi coordinates</td>\n",
       "    </tr>\n",
       "    <tr>\n",
       "      <th>3</th>\n",
       "      <td>Bakhshi Stadium</td>\n",
       "      <td>30000</td>\n",
       "      <td>Srinagar</td>\n",
       "      <td>Jammu and Kashmir</td>\n",
       "      <td>No</td>\n",
       "      <td>No</td>\n",
       "      <td>Yes</td>\n",
       "      <td>No</td>\n",
       "      <td>Srinagar coordinates</td>\n",
       "    </tr>\n",
       "    <tr>\n",
       "      <th>4</th>\n",
       "      <td>Barabati Stadium</td>\n",
       "      <td>45000</td>\n",
       "      <td>Cuttack</td>\n",
       "      <td>Odisha</td>\n",
       "      <td>No</td>\n",
       "      <td>Yes</td>\n",
       "      <td>No</td>\n",
       "      <td>No</td>\n",
       "      <td>Cuttack coordinates</td>\n",
       "    </tr>\n",
       "  </tbody>\n",
       "</table>\n",
       "</div>"
      ],
      "text/plain": [
       "            Stadium  Capacity      City              State Hockey Cricket  \\\n",
       "0  Aishbagh Stadium     10000    Bhopal     Madhya Pradesh    Yes      No   \n",
       "1  Ambedkar Stadium     20000     Delhi          Delhi NCR     No      No   \n",
       "2  Baichung Stadium     30000    Namchi             Sikkim     No      No   \n",
       "3   Bakhshi Stadium     30000  Srinagar  Jammu and Kashmir     No      No   \n",
       "4  Barabati Stadium     45000   Cuttack             Odisha     No     Yes   \n",
       "\n",
       "  Football Athletics                search  \n",
       "0       No        No    Bhopal coordinates  \n",
       "1      Yes        No     Delhi coordinates  \n",
       "2      Yes        No    Namchi coordinates  \n",
       "3      Yes        No  Srinagar coordinates  \n",
       "4       No        No   Cuttack coordinates  "
      ]
     },
     "execution_count": 40,
     "metadata": {},
     "output_type": "execute_result"
    }
   ],
   "source": [
    "df2.head()"
   ]
  },
  {
   "cell_type": "code",
   "execution_count": 41,
   "metadata": {},
   "outputs": [
    {
     "name": "stdout",
     "output_type": "stream",
     "text": [
      "Collecting selenium\n",
      "  Downloading https://files.pythonhosted.org/packages/b0/c9/52390baa8d6b65c3e3b89f522c3a0fcf58f2b4faf37893ef9d97cddde699/selenium-3.14.1-py2.py3-none-any.whl (902kB)\n",
      "Requirement already satisfied: urllib3 in c:\\users\\umang\\anaconda3\\lib\\site-packages (from selenium) (1.22)\n",
      "Installing collected packages: selenium\n",
      "Successfully installed selenium-3.14.1\n"
     ]
    },
    {
     "name": "stderr",
     "output_type": "stream",
     "text": [
      "You are using pip version 18.0, however version 18.1 is available.\n",
      "You should consider upgrading via the 'python -m pip install --upgrade pip' command.\n"
     ]
    }
   ],
   "source": [
    "!pip install selenium"
   ]
  },
  {
   "cell_type": "code",
   "execution_count": 42,
   "metadata": {},
   "outputs": [],
   "source": [
    "from selenium import webdriver"
   ]
  },
  {
   "cell_type": "code",
   "execution_count": 46,
   "metadata": {},
   "outputs": [],
   "source": [
    "from selenium.webdriver.common.keys import Keys"
   ]
  },
  {
   "cell_type": "code",
   "execution_count": 43,
   "metadata": {},
   "outputs": [],
   "source": [
    "dic = {}\n",
    "dic=df2['search'].value_counts()"
   ]
  },
  {
   "cell_type": "code",
   "execution_count": 48,
   "metadata": {},
   "outputs": [],
   "source": [
    "lat = []\n",
    "lon = []\n",
    "s = []\n",
    "pin = {}\n",
    "driver = webdriver.Chrome(\"C:\\\\Users\\\\Umang\\\\Downloads\\\\Soft\\\\chromebook\\\\chromedriver.exe\")\n",
    "for i in dic.keys():\n",
    "    driver.get(\"http://www.google.com\")\n",
    "    elem = driver.find_element_by_xpath('//*[@id=\"lst-ib\"]')\n",
    "    elem.clear()\n",
    "    elem.send_keys(i)\n",
    "    elem.send_keys(Keys.RETURN)\n",
    "    \n",
    "    try:\n",
    "        a = driver.find_element_by_xpath(\"/html/body/div[7]/div[3]/div[10]/div[1]/div[2]/div/div[2]/div[2]/div/div/div/div[1]/div/div[1]/div/div[1]/div[2]/div[2]/div/div[1]/div/div/div[1]\").text\n",
    "    except:\n",
    "        a=\"Not Found\"\n",
    "    pin[i]=a\n",
    "driver.quit()\n"
   ]
  },
  {
   "cell_type": "code",
   "execution_count": 49,
   "metadata": {},
   "outputs": [
    {
     "data": {
      "text/plain": [
       "82"
      ]
     },
     "execution_count": 49,
     "metadata": {},
     "output_type": "execute_result"
    }
   ],
   "source": [
    "len(pin)"
   ]
  },
  {
   "cell_type": "code",
   "execution_count": 51,
   "metadata": {},
   "outputs": [
    {
     "data": {
      "text/plain": [
       "{'Kolkata coordinates': '22.5726° N, 88.3639° E',\n",
       " 'Delhi coordinates': '28.7041° N, 77.1025° E',\n",
       " 'Lucknow coordinates': '26.8467° N, 80.9462° E',\n",
       " 'Bhubaneswar coordinates': '20.2961° N, 85.8245° E',\n",
       " 'Hyderabad coordinates': '17.3850° N, 78.4867° E',\n",
       " 'Ranchi coordinates': '23.3441° N, 85.3096° E',\n",
       " 'Guwahati coordinates': '26.1445° N, 91.7362° E',\n",
       " 'Kochi coordinates': '9.9312° N, 76.2673° E',\n",
       " 'Bengaluru coordinates': '12.9716° N, 77.5946° E',\n",
       " 'Chandigarh coordinates': '30.7333° N, 76.7794° E',\n",
       " 'Kozhikode coordinates': '11.2588° N, 75.7804° E',\n",
       " 'Rajkot coordinates': '22.3039° N, 70.8022° E',\n",
       " 'Thiruvananthapuram coordinates': '8.5241° N, 76.9366° E',\n",
       " 'Jamshedpur coordinates': '22.8046° N, 86.2029° E',\n",
       " 'Ahmedabad coordinates': '23.0225° N, 72.5714° E',\n",
       " 'Indore coordinates': '22.7196° N, 75.8577° E',\n",
       " 'Baroda coordinates': '22.3072° N, 73.1812° E',\n",
       " 'Bhopal coordinates': '23.2599° N, 77.4126° E',\n",
       " 'Chennai coordinates': '13.0827° N, 80.2707° E',\n",
       " 'Patna coordinates': '25.5941° N, 85.1376° E',\n",
       " 'Cuttack coordinates': '20.4625° N, 85.8830° E',\n",
       " 'Nanded coordinates': 'Not Found',\n",
       " 'Ludhiana coordinates': '30.9010° N, 75.8573° E',\n",
       " 'Sangrur coordinates': 'Not Found',\n",
       " 'Mohali coordinates': '30.7046° N, 76.7179° E',\n",
       " 'Dimapur coordinates': '25.8630° N, 93.7537° E',\n",
       " 'Imphal coordinates': 'Not Found',\n",
       " 'Gurgaon coordinates': '28.4595° N, 77.0266° E',\n",
       " 'Kalimpong coordinates': '27.0594° N, 88.4695° E',\n",
       " 'Jabalpur coordinates': '23.1815° N, 79.9864° E',\n",
       " 'Jaipur coordinates': '26.9124° N, 75.7873° E',\n",
       " 'Silchar coordinates': '24.8333° N, 92.7789° E',\n",
       " 'Sambalpur coordinates': '21.4669° N, 83.9812° E',\n",
       " 'Visakhapatnam coordinates': '17.6868° N, 83.2185° E',\n",
       " 'Navi Mumbai coordinates': '19.0330° N, 73.0297° E',\n",
       " 'Kadapa coordinates': '14.4674° N, 78.8241° E',\n",
       " 'Jorethang coordinates': '27.1317° N, 88.2796° E',\n",
       " 'Siwan coordinates': 'Not Found',\n",
       " 'Kanpur coordinates': '26.4499° N, 80.3319° E',\n",
       " 'Mumbai coordinates': '19.0760° N, 72.8777° E',\n",
       " 'Dharamshala coordinates': '32.2190° N, 76.3234° E',\n",
       " 'Thane coordinates': '19.2183° N, 72.9781° E',\n",
       " 'Coimbatore coordinates': '11.0168° N, 76.9558° E',\n",
       " 'Neemuch coordinates': 'Not Found',\n",
       " 'Gangtok coordinates': '27.3389° N, 88.6065° E',\n",
       " 'Vasco da Gama coordinates': '15.3860° N, 73.8440° E',\n",
       " 'Greater Noida coordinates': 'Not Found',\n",
       " 'Mandya coordinates': '12.5222° N, 76.9009° E',\n",
       " 'Saifai coordinates': 'Not Found',\n",
       " 'Pune coordinates': '18.5204° N, 73.8567° E',\n",
       " 'Madurai coordinates': '9.9252° N, 78.1198° E',\n",
       " 'Siliguri coordinates': '26.7271° N, 88.3953° E',\n",
       " 'Raipur coordinates': '21.2514° N, 81.6296° E',\n",
       " 'Dehradun coordinates': '30.3165° N, 78.0322° E',\n",
       " 'Rajnandgaon coordinates': '21.0971° N, 81.0302° E',\n",
       " 'Kollam coordinates': '8.8932° N, 76.6141° E',\n",
       " 'Ajitgarh coordinates': 'Not Found',\n",
       " 'Thrissur coordinates': '10.5276° N, 76.2144° E',\n",
       " 'Gwalior coordinates': '26.2183° N, 78.1828° E',\n",
       " 'Namchi coordinates': '27.1670° N, 88.3652° E',\n",
       " 'Agartala coordinates': '23.8315° N, 91.2868° E',\n",
       " 'Varanasi coordinates': '25.3176° N, 82.9739° E',\n",
       " 'Surat coordinates': '21.1702° N, 72.8311° E',\n",
       " 'Margao coordinates': '15.2832° N, 73.9862° E',\n",
       " 'Solapur coordinates': '17.6599° N, 75.9064° E',\n",
       " 'Rohtak coordinates': '28.8955° N, 76.6066° E',\n",
       " 'Hisar coordinates': '29.1492° N, 75.7217° E',\n",
       " 'Gahunje,\\xa0Pune district coordinates': '18.6675° N, 73.7022° E',\n",
       " 'Nagpur coordinates': '21.1458° N, 79.0882° E',\n",
       " 'Sri Nagar coordinates': 'Not Found',\n",
       " 'Srinagar coordinates': 'Not Found',\n",
       " 'Panaji coordinates': '15.4909° N, 73.8278° E',\n",
       " 'Mangalore coordinates': '12.9141° N, 74.8560° E',\n",
       " 'Jodhpur coordinates': '26.2389° N, 73.0243° E',\n",
       " 'Jalandhar coordinates': '31.3260° N, 75.5762° E',\n",
       " 'Gudivada coordinates': 'Not Found',\n",
       " 'Udaipur coordinates': '24.5854° N, 73.7125° E',\n",
       " 'Palakkad coordinates': '10.7867° N, 76.6548° E',\n",
       " 'Mysore coordinates': '12.2958° N, 76.6394° E',\n",
       " 'Patiala coordinates': '30.3398° N, 76.3869° E',\n",
       " 'Hoshiarpur coordinates': '31.5143° N, 75.9115° E',\n",
       " 'KapurthalaU coordinates': '31.3715° N, 75.3937° E'}"
      ]
     },
     "execution_count": 51,
     "metadata": {},
     "output_type": "execute_result"
    }
   ],
   "source": [
    "pin"
   ]
  },
  {
   "cell_type": "code",
   "execution_count": 52,
   "metadata": {},
   "outputs": [],
   "source": [
    "df2['coordinates'] = df2['search'].map(pin)"
   ]
  },
  {
   "cell_type": "code",
   "execution_count": 53,
   "metadata": {},
   "outputs": [
    {
     "data": {
      "text/html": [
       "<div>\n",
       "<style scoped>\n",
       "    .dataframe tbody tr th:only-of-type {\n",
       "        vertical-align: middle;\n",
       "    }\n",
       "\n",
       "    .dataframe tbody tr th {\n",
       "        vertical-align: top;\n",
       "    }\n",
       "\n",
       "    .dataframe thead th {\n",
       "        text-align: right;\n",
       "    }\n",
       "</style>\n",
       "<table border=\"1\" class=\"dataframe\">\n",
       "  <thead>\n",
       "    <tr style=\"text-align: right;\">\n",
       "      <th></th>\n",
       "      <th>Stadium</th>\n",
       "      <th>Capacity</th>\n",
       "      <th>City</th>\n",
       "      <th>State</th>\n",
       "      <th>Hockey</th>\n",
       "      <th>Cricket</th>\n",
       "      <th>Football</th>\n",
       "      <th>Athletics</th>\n",
       "      <th>search</th>\n",
       "      <th>coordinates</th>\n",
       "    </tr>\n",
       "  </thead>\n",
       "  <tbody>\n",
       "    <tr>\n",
       "      <th>0</th>\n",
       "      <td>Aishbagh Stadium</td>\n",
       "      <td>10000</td>\n",
       "      <td>Bhopal</td>\n",
       "      <td>Madhya Pradesh</td>\n",
       "      <td>Yes</td>\n",
       "      <td>No</td>\n",
       "      <td>No</td>\n",
       "      <td>No</td>\n",
       "      <td>Bhopal coordinates</td>\n",
       "      <td>23.2599° N, 77.4126° E</td>\n",
       "    </tr>\n",
       "    <tr>\n",
       "      <th>1</th>\n",
       "      <td>Ambedkar Stadium</td>\n",
       "      <td>20000</td>\n",
       "      <td>Delhi</td>\n",
       "      <td>Delhi NCR</td>\n",
       "      <td>No</td>\n",
       "      <td>No</td>\n",
       "      <td>Yes</td>\n",
       "      <td>No</td>\n",
       "      <td>Delhi coordinates</td>\n",
       "      <td>28.7041° N, 77.1025° E</td>\n",
       "    </tr>\n",
       "    <tr>\n",
       "      <th>2</th>\n",
       "      <td>Baichung Stadium</td>\n",
       "      <td>30000</td>\n",
       "      <td>Namchi</td>\n",
       "      <td>Sikkim</td>\n",
       "      <td>No</td>\n",
       "      <td>No</td>\n",
       "      <td>Yes</td>\n",
       "      <td>No</td>\n",
       "      <td>Namchi coordinates</td>\n",
       "      <td>27.1670° N, 88.3652° E</td>\n",
       "    </tr>\n",
       "    <tr>\n",
       "      <th>3</th>\n",
       "      <td>Bakhshi Stadium</td>\n",
       "      <td>30000</td>\n",
       "      <td>Srinagar</td>\n",
       "      <td>Jammu and Kashmir</td>\n",
       "      <td>No</td>\n",
       "      <td>No</td>\n",
       "      <td>Yes</td>\n",
       "      <td>No</td>\n",
       "      <td>Srinagar coordinates</td>\n",
       "      <td>Not Found</td>\n",
       "    </tr>\n",
       "    <tr>\n",
       "      <th>4</th>\n",
       "      <td>Barabati Stadium</td>\n",
       "      <td>45000</td>\n",
       "      <td>Cuttack</td>\n",
       "      <td>Odisha</td>\n",
       "      <td>No</td>\n",
       "      <td>Yes</td>\n",
       "      <td>No</td>\n",
       "      <td>No</td>\n",
       "      <td>Cuttack coordinates</td>\n",
       "      <td>20.4625° N, 85.8830° E</td>\n",
       "    </tr>\n",
       "  </tbody>\n",
       "</table>\n",
       "</div>"
      ],
      "text/plain": [
       "            Stadium  Capacity      City              State Hockey Cricket  \\\n",
       "0  Aishbagh Stadium     10000    Bhopal     Madhya Pradesh    Yes      No   \n",
       "1  Ambedkar Stadium     20000     Delhi          Delhi NCR     No      No   \n",
       "2  Baichung Stadium     30000    Namchi             Sikkim     No      No   \n",
       "3   Bakhshi Stadium     30000  Srinagar  Jammu and Kashmir     No      No   \n",
       "4  Barabati Stadium     45000   Cuttack             Odisha     No     Yes   \n",
       "\n",
       "  Football Athletics                search             coordinates  \n",
       "0       No        No    Bhopal coordinates  23.2599° N, 77.4126° E  \n",
       "1      Yes        No     Delhi coordinates  28.7041° N, 77.1025° E  \n",
       "2      Yes        No    Namchi coordinates  27.1670° N, 88.3652° E  \n",
       "3      Yes        No  Srinagar coordinates               Not Found  \n",
       "4       No        No   Cuttack coordinates  20.4625° N, 85.8830° E  "
      ]
     },
     "execution_count": 53,
     "metadata": {},
     "output_type": "execute_result"
    }
   ],
   "source": [
    "df2.head()"
   ]
  },
  {
   "cell_type": "code",
   "execution_count": 56,
   "metadata": {},
   "outputs": [
    {
     "data": {
      "text/html": [
       "<div>\n",
       "<style scoped>\n",
       "    .dataframe tbody tr th:only-of-type {\n",
       "        vertical-align: middle;\n",
       "    }\n",
       "\n",
       "    .dataframe tbody tr th {\n",
       "        vertical-align: top;\n",
       "    }\n",
       "\n",
       "    .dataframe thead th {\n",
       "        text-align: right;\n",
       "    }\n",
       "</style>\n",
       "<table border=\"1\" class=\"dataframe\">\n",
       "  <thead>\n",
       "    <tr style=\"text-align: right;\">\n",
       "      <th></th>\n",
       "      <th>Stadium</th>\n",
       "      <th>Capacity</th>\n",
       "      <th>City</th>\n",
       "      <th>State</th>\n",
       "      <th>Hockey</th>\n",
       "      <th>Cricket</th>\n",
       "      <th>Football</th>\n",
       "      <th>Athletics</th>\n",
       "      <th>search</th>\n",
       "      <th>coordinates</th>\n",
       "    </tr>\n",
       "  </thead>\n",
       "  <tbody>\n",
       "    <tr>\n",
       "      <th>3</th>\n",
       "      <td>Bakhshi Stadium</td>\n",
       "      <td>30000</td>\n",
       "      <td>Srinagar</td>\n",
       "      <td>Jammu and Kashmir</td>\n",
       "      <td>No</td>\n",
       "      <td>No</td>\n",
       "      <td>Yes</td>\n",
       "      <td>No</td>\n",
       "      <td>Srinagar coordinates</td>\n",
       "      <td>Not Found</td>\n",
       "    </tr>\n",
       "    <tr>\n",
       "      <th>10</th>\n",
       "      <td>Buddh International Circuit</td>\n",
       "      <td>120000</td>\n",
       "      <td>Greater Noida</td>\n",
       "      <td>Uttar Pradesh</td>\n",
       "      <td>No</td>\n",
       "      <td>No</td>\n",
       "      <td>No</td>\n",
       "      <td>No</td>\n",
       "      <td>Greater Noida coordinates</td>\n",
       "      <td>Not Found</td>\n",
       "    </tr>\n",
       "    <tr>\n",
       "      <th>24</th>\n",
       "      <td>Dr. Rajendra Prasad Football Stadium</td>\n",
       "      <td>10000</td>\n",
       "      <td>Neemuch</td>\n",
       "      <td>Madhya Pradesh</td>\n",
       "      <td>No</td>\n",
       "      <td>No</td>\n",
       "      <td>Yes</td>\n",
       "      <td>No</td>\n",
       "      <td>Neemuch coordinates</td>\n",
       "      <td>Not Found</td>\n",
       "    </tr>\n",
       "    <tr>\n",
       "      <th>39</th>\n",
       "      <td>Guru Gobind Singh Stadium</td>\n",
       "      <td>30000</td>\n",
       "      <td>Nanded</td>\n",
       "      <td>Maharashtra</td>\n",
       "      <td>No</td>\n",
       "      <td>Yes</td>\n",
       "      <td>No</td>\n",
       "      <td>No</td>\n",
       "      <td>Nanded coordinates</td>\n",
       "      <td>Not Found</td>\n",
       "    </tr>\n",
       "    <tr>\n",
       "      <th>49</th>\n",
       "      <td>International Hockey Stadium</td>\n",
       "      <td>13648</td>\n",
       "      <td>Ajitgarh</td>\n",
       "      <td>Punjab</td>\n",
       "      <td>Yes</td>\n",
       "      <td>No</td>\n",
       "      <td>No</td>\n",
       "      <td>No</td>\n",
       "      <td>Ajitgarh coordinates</td>\n",
       "      <td>Not Found</td>\n",
       "    </tr>\n",
       "    <tr>\n",
       "      <th>65</th>\n",
       "      <td>Khuman Lampak Main Stadium</td>\n",
       "      <td>30000</td>\n",
       "      <td>Imphal</td>\n",
       "      <td>Manipur</td>\n",
       "      <td>No</td>\n",
       "      <td>No</td>\n",
       "      <td>Yes</td>\n",
       "      <td>No</td>\n",
       "      <td>Imphal coordinates</td>\n",
       "      <td>Not Found</td>\n",
       "    </tr>\n",
       "    <tr>\n",
       "      <th>88</th>\n",
       "      <td>NTR Stadium</td>\n",
       "      <td>20000</td>\n",
       "      <td>Gudivada</td>\n",
       "      <td>multi-purpose stadium</td>\n",
       "      <td>No</td>\n",
       "      <td>No</td>\n",
       "      <td>No</td>\n",
       "      <td>No</td>\n",
       "      <td>Gudivada coordinates</td>\n",
       "      <td>Not Found</td>\n",
       "    </tr>\n",
       "    <tr>\n",
       "      <th>93</th>\n",
       "      <td>Rajendra Stadium</td>\n",
       "      <td>15000</td>\n",
       "      <td>Siwan</td>\n",
       "      <td>Bihar</td>\n",
       "      <td>No</td>\n",
       "      <td>No</td>\n",
       "      <td>Yes</td>\n",
       "      <td>No</td>\n",
       "      <td>Siwan coordinates</td>\n",
       "      <td>Not Found</td>\n",
       "    </tr>\n",
       "    <tr>\n",
       "      <th>98</th>\n",
       "      <td>Saifai International Cricket Stadium</td>\n",
       "      <td>43000</td>\n",
       "      <td>Saifai</td>\n",
       "      <td>Uttar Pradesh</td>\n",
       "      <td>No</td>\n",
       "      <td>Yes</td>\n",
       "      <td>No</td>\n",
       "      <td>No</td>\n",
       "      <td>Saifai coordinates</td>\n",
       "      <td>Not Found</td>\n",
       "    </tr>\n",
       "    <tr>\n",
       "      <th>107</th>\n",
       "      <td>Sher-i-Kashmir Stadium</td>\n",
       "      <td>12000</td>\n",
       "      <td>Sri Nagar</td>\n",
       "      <td>Jammu and Kashmir</td>\n",
       "      <td>No</td>\n",
       "      <td>Yes</td>\n",
       "      <td>No</td>\n",
       "      <td>No</td>\n",
       "      <td>Sri Nagar coordinates</td>\n",
       "      <td>Not Found</td>\n",
       "    </tr>\n",
       "    <tr>\n",
       "      <th>119</th>\n",
       "      <td>War Heroes Stadium</td>\n",
       "      <td>30000</td>\n",
       "      <td>Sangrur</td>\n",
       "      <td>Punjab</td>\n",
       "      <td>Yes</td>\n",
       "      <td>No</td>\n",
       "      <td>No</td>\n",
       "      <td>No</td>\n",
       "      <td>Sangrur coordinates</td>\n",
       "      <td>Not Found</td>\n",
       "    </tr>\n",
       "  </tbody>\n",
       "</table>\n",
       "</div>"
      ],
      "text/plain": [
       "                                  Stadium  Capacity           City  \\\n",
       "3                         Bakhshi Stadium     30000       Srinagar   \n",
       "10            Buddh International Circuit    120000  Greater Noida   \n",
       "24   Dr. Rajendra Prasad Football Stadium     10000        Neemuch   \n",
       "39              Guru Gobind Singh Stadium     30000         Nanded   \n",
       "49           International Hockey Stadium     13648       Ajitgarh   \n",
       "65             Khuman Lampak Main Stadium     30000         Imphal   \n",
       "88                            NTR Stadium     20000       Gudivada   \n",
       "93                       Rajendra Stadium     15000          Siwan   \n",
       "98   Saifai International Cricket Stadium     43000         Saifai   \n",
       "107                Sher-i-Kashmir Stadium     12000      Sri Nagar   \n",
       "119                    War Heroes Stadium     30000        Sangrur   \n",
       "\n",
       "                     State Hockey Cricket Football Athletics  \\\n",
       "3        Jammu and Kashmir     No      No      Yes        No   \n",
       "10           Uttar Pradesh     No      No       No        No   \n",
       "24          Madhya Pradesh     No      No      Yes        No   \n",
       "39             Maharashtra     No     Yes       No        No   \n",
       "49                  Punjab    Yes      No       No        No   \n",
       "65                 Manipur     No      No      Yes        No   \n",
       "88   multi-purpose stadium     No      No       No        No   \n",
       "93                   Bihar     No      No      Yes        No   \n",
       "98           Uttar Pradesh     No     Yes       No        No   \n",
       "107      Jammu and Kashmir     No     Yes       No        No   \n",
       "119                 Punjab    Yes      No       No        No   \n",
       "\n",
       "                        search coordinates  \n",
       "3         Srinagar coordinates   Not Found  \n",
       "10   Greater Noida coordinates   Not Found  \n",
       "24         Neemuch coordinates   Not Found  \n",
       "39          Nanded coordinates   Not Found  \n",
       "49        Ajitgarh coordinates   Not Found  \n",
       "65          Imphal coordinates   Not Found  \n",
       "88        Gudivada coordinates   Not Found  \n",
       "93           Siwan coordinates   Not Found  \n",
       "98          Saifai coordinates   Not Found  \n",
       "107      Sri Nagar coordinates   Not Found  \n",
       "119        Sangrur coordinates   Not Found  "
      ]
     },
     "execution_count": 56,
     "metadata": {},
     "output_type": "execute_result"
    }
   ],
   "source": [
    "df2.loc[df2['coordinates']=='Not Found',:]"
   ]
  },
  {
   "cell_type": "code",
   "execution_count": 58,
   "metadata": {},
   "outputs": [],
   "source": [
    "df2.loc[3,'coordinates'] = '34.083656, 74.797371'"
   ]
  },
  {
   "cell_type": "code",
   "execution_count": 75,
   "metadata": {},
   "outputs": [],
   "source": [
    "df2.loc[10,'coordinates'] = '28.4744, 77.5040'\n",
    "df2.loc[24,'coordinates'] = '24.4764, 78.8624'\n",
    "df2.loc[39,'coordinates'] = '19.1383, 77.3210'\n",
    "df2.loc[49,'coordinates'] = '27.4209, 75.8182'\n",
    "df2.loc[65,'coordinates'] = '24.8170, 93.9368'\n",
    "df2.loc[88,'coordinates'] = '16.4410, 80.9926'\n",
    "df2.loc[93,'coordinates'] = '26.2196, 84.3567'\n",
    "df2.loc[98,'coordinates'] = '26.9569, 78.9684'\n",
    "df2.loc[107,'coordinates'] = '34.083656, 74.797371'\n",
    "df2.loc[119,'coordinates'] = '30.2458, 75.8421'"
   ]
  },
  {
   "cell_type": "code",
   "execution_count": 59,
   "metadata": {},
   "outputs": [],
   "source": [
    "a = df2.loc[1,'coordinates']"
   ]
  },
  {
   "cell_type": "code",
   "execution_count": 60,
   "metadata": {},
   "outputs": [
    {
     "data": {
      "text/plain": [
       "'28.7041° N, 77.1025° E'"
      ]
     },
     "execution_count": 60,
     "metadata": {},
     "output_type": "execute_result"
    }
   ],
   "source": [
    "a"
   ]
  },
  {
   "cell_type": "code",
   "execution_count": 61,
   "metadata": {},
   "outputs": [],
   "source": [
    "import re"
   ]
  },
  {
   "cell_type": "code",
   "execution_count": 68,
   "metadata": {},
   "outputs": [],
   "source": [
    "b = re.findall(r\"[0-9]+[.][0-9]+\",a)"
   ]
  },
  {
   "cell_type": "code",
   "execution_count": 69,
   "metadata": {},
   "outputs": [
    {
     "data": {
      "text/plain": [
       "['28.7041', '77.1025']"
      ]
     },
     "execution_count": 69,
     "metadata": {},
     "output_type": "execute_result"
    }
   ],
   "source": [
    "b"
   ]
  },
  {
   "cell_type": "code",
   "execution_count": 71,
   "metadata": {},
   "outputs": [],
   "source": [
    "c = '34.083656, 74.797371'"
   ]
  },
  {
   "cell_type": "code",
   "execution_count": 72,
   "metadata": {},
   "outputs": [],
   "source": [
    "b = re.findall(r\"[0-9]+[.][0-9]+\",c)"
   ]
  },
  {
   "cell_type": "code",
   "execution_count": 73,
   "metadata": {},
   "outputs": [
    {
     "data": {
      "text/plain": [
       "['34.083656', '74.797371']"
      ]
     },
     "execution_count": 73,
     "metadata": {},
     "output_type": "execute_result"
    }
   ],
   "source": [
    "b"
   ]
  },
  {
   "cell_type": "code",
   "execution_count": 77,
   "metadata": {},
   "outputs": [],
   "source": [
    "for i in range(len(df2)):\n",
    "    a = re.findall(r\"[0-9]+[.][0-9]+\",df2['coordinates'][i])\n",
    "    lat.append(a[0])\n",
    "    lon.append(a[1])"
   ]
  },
  {
   "cell_type": "code",
   "execution_count": 78,
   "metadata": {},
   "outputs": [
    {
     "data": {
      "text/plain": [
       "121"
      ]
     },
     "execution_count": 78,
     "metadata": {},
     "output_type": "execute_result"
    }
   ],
   "source": [
    "len(lat)"
   ]
  },
  {
   "cell_type": "code",
   "execution_count": 79,
   "metadata": {},
   "outputs": [
    {
     "data": {
      "text/plain": [
       "121"
      ]
     },
     "execution_count": 79,
     "metadata": {},
     "output_type": "execute_result"
    }
   ],
   "source": [
    "len(lon)"
   ]
  },
  {
   "cell_type": "code",
   "execution_count": 81,
   "metadata": {},
   "outputs": [],
   "source": [
    "df2['lat'] = lat\n",
    "df2['lon'] = lon"
   ]
  },
  {
   "cell_type": "code",
   "execution_count": 82,
   "metadata": {},
   "outputs": [
    {
     "data": {
      "text/html": [
       "<div>\n",
       "<style scoped>\n",
       "    .dataframe tbody tr th:only-of-type {\n",
       "        vertical-align: middle;\n",
       "    }\n",
       "\n",
       "    .dataframe tbody tr th {\n",
       "        vertical-align: top;\n",
       "    }\n",
       "\n",
       "    .dataframe thead th {\n",
       "        text-align: right;\n",
       "    }\n",
       "</style>\n",
       "<table border=\"1\" class=\"dataframe\">\n",
       "  <thead>\n",
       "    <tr style=\"text-align: right;\">\n",
       "      <th></th>\n",
       "      <th>Stadium</th>\n",
       "      <th>Capacity</th>\n",
       "      <th>City</th>\n",
       "      <th>State</th>\n",
       "      <th>Hockey</th>\n",
       "      <th>Cricket</th>\n",
       "      <th>Football</th>\n",
       "      <th>Athletics</th>\n",
       "      <th>search</th>\n",
       "      <th>coordinates</th>\n",
       "      <th>lat</th>\n",
       "      <th>lon</th>\n",
       "    </tr>\n",
       "  </thead>\n",
       "  <tbody>\n",
       "    <tr>\n",
       "      <th>0</th>\n",
       "      <td>Aishbagh Stadium</td>\n",
       "      <td>10000</td>\n",
       "      <td>Bhopal</td>\n",
       "      <td>Madhya Pradesh</td>\n",
       "      <td>Yes</td>\n",
       "      <td>No</td>\n",
       "      <td>No</td>\n",
       "      <td>No</td>\n",
       "      <td>Bhopal coordinates</td>\n",
       "      <td>23.2599° N, 77.4126° E</td>\n",
       "      <td>23.2599</td>\n",
       "      <td>77.4126</td>\n",
       "    </tr>\n",
       "    <tr>\n",
       "      <th>1</th>\n",
       "      <td>Ambedkar Stadium</td>\n",
       "      <td>20000</td>\n",
       "      <td>Delhi</td>\n",
       "      <td>Delhi NCR</td>\n",
       "      <td>No</td>\n",
       "      <td>No</td>\n",
       "      <td>Yes</td>\n",
       "      <td>No</td>\n",
       "      <td>Delhi coordinates</td>\n",
       "      <td>28.7041° N, 77.1025° E</td>\n",
       "      <td>28.7041</td>\n",
       "      <td>77.1025</td>\n",
       "    </tr>\n",
       "    <tr>\n",
       "      <th>2</th>\n",
       "      <td>Baichung Stadium</td>\n",
       "      <td>30000</td>\n",
       "      <td>Namchi</td>\n",
       "      <td>Sikkim</td>\n",
       "      <td>No</td>\n",
       "      <td>No</td>\n",
       "      <td>Yes</td>\n",
       "      <td>No</td>\n",
       "      <td>Namchi coordinates</td>\n",
       "      <td>27.1670° N, 88.3652° E</td>\n",
       "      <td>27.1670</td>\n",
       "      <td>88.3652</td>\n",
       "    </tr>\n",
       "    <tr>\n",
       "      <th>3</th>\n",
       "      <td>Bakhshi Stadium</td>\n",
       "      <td>30000</td>\n",
       "      <td>Srinagar</td>\n",
       "      <td>Jammu and Kashmir</td>\n",
       "      <td>No</td>\n",
       "      <td>No</td>\n",
       "      <td>Yes</td>\n",
       "      <td>No</td>\n",
       "      <td>Srinagar coordinates</td>\n",
       "      <td>34.083656, 74.797371</td>\n",
       "      <td>34.083656</td>\n",
       "      <td>74.797371</td>\n",
       "    </tr>\n",
       "    <tr>\n",
       "      <th>4</th>\n",
       "      <td>Barabati Stadium</td>\n",
       "      <td>45000</td>\n",
       "      <td>Cuttack</td>\n",
       "      <td>Odisha</td>\n",
       "      <td>No</td>\n",
       "      <td>Yes</td>\n",
       "      <td>No</td>\n",
       "      <td>No</td>\n",
       "      <td>Cuttack coordinates</td>\n",
       "      <td>20.4625° N, 85.8830° E</td>\n",
       "      <td>20.4625</td>\n",
       "      <td>85.8830</td>\n",
       "    </tr>\n",
       "  </tbody>\n",
       "</table>\n",
       "</div>"
      ],
      "text/plain": [
       "            Stadium  Capacity      City              State Hockey Cricket  \\\n",
       "0  Aishbagh Stadium     10000    Bhopal     Madhya Pradesh    Yes      No   \n",
       "1  Ambedkar Stadium     20000     Delhi          Delhi NCR     No      No   \n",
       "2  Baichung Stadium     30000    Namchi             Sikkim     No      No   \n",
       "3   Bakhshi Stadium     30000  Srinagar  Jammu and Kashmir     No      No   \n",
       "4  Barabati Stadium     45000   Cuttack             Odisha     No     Yes   \n",
       "\n",
       "  Football Athletics                search             coordinates        lat  \\\n",
       "0       No        No    Bhopal coordinates  23.2599° N, 77.4126° E    23.2599   \n",
       "1      Yes        No     Delhi coordinates  28.7041° N, 77.1025° E    28.7041   \n",
       "2      Yes        No    Namchi coordinates  27.1670° N, 88.3652° E    27.1670   \n",
       "3      Yes        No  Srinagar coordinates    34.083656, 74.797371  34.083656   \n",
       "4       No        No   Cuttack coordinates  20.4625° N, 85.8830° E    20.4625   \n",
       "\n",
       "         lon  \n",
       "0    77.4126  \n",
       "1    77.1025  \n",
       "2    88.3652  \n",
       "3  74.797371  \n",
       "4    85.8830  "
      ]
     },
     "execution_count": 82,
     "metadata": {},
     "output_type": "execute_result"
    }
   ],
   "source": [
    "df2.head()"
   ]
  },
  {
   "cell_type": "code",
   "execution_count": 83,
   "metadata": {},
   "outputs": [
    {
     "data": {
      "text/html": [
       "<div>\n",
       "<style scoped>\n",
       "    .dataframe tbody tr th:only-of-type {\n",
       "        vertical-align: middle;\n",
       "    }\n",
       "\n",
       "    .dataframe tbody tr th {\n",
       "        vertical-align: top;\n",
       "    }\n",
       "\n",
       "    .dataframe thead th {\n",
       "        text-align: right;\n",
       "    }\n",
       "</style>\n",
       "<table border=\"1\" class=\"dataframe\">\n",
       "  <thead>\n",
       "    <tr style=\"text-align: right;\">\n",
       "      <th></th>\n",
       "      <th>Stadium</th>\n",
       "      <th>Capacity</th>\n",
       "      <th>City</th>\n",
       "      <th>State</th>\n",
       "      <th>Hockey</th>\n",
       "      <th>Cricket</th>\n",
       "      <th>Football</th>\n",
       "      <th>Athletics</th>\n",
       "      <th>lat</th>\n",
       "      <th>lon</th>\n",
       "    </tr>\n",
       "  </thead>\n",
       "  <tbody>\n",
       "    <tr>\n",
       "      <th>0</th>\n",
       "      <td>Aishbagh Stadium</td>\n",
       "      <td>10000</td>\n",
       "      <td>Bhopal</td>\n",
       "      <td>Madhya Pradesh</td>\n",
       "      <td>Yes</td>\n",
       "      <td>No</td>\n",
       "      <td>No</td>\n",
       "      <td>No</td>\n",
       "      <td>23.2599</td>\n",
       "      <td>77.4126</td>\n",
       "    </tr>\n",
       "    <tr>\n",
       "      <th>1</th>\n",
       "      <td>Ambedkar Stadium</td>\n",
       "      <td>20000</td>\n",
       "      <td>Delhi</td>\n",
       "      <td>Delhi NCR</td>\n",
       "      <td>No</td>\n",
       "      <td>No</td>\n",
       "      <td>Yes</td>\n",
       "      <td>No</td>\n",
       "      <td>28.7041</td>\n",
       "      <td>77.1025</td>\n",
       "    </tr>\n",
       "    <tr>\n",
       "      <th>2</th>\n",
       "      <td>Baichung Stadium</td>\n",
       "      <td>30000</td>\n",
       "      <td>Namchi</td>\n",
       "      <td>Sikkim</td>\n",
       "      <td>No</td>\n",
       "      <td>No</td>\n",
       "      <td>Yes</td>\n",
       "      <td>No</td>\n",
       "      <td>27.1670</td>\n",
       "      <td>88.3652</td>\n",
       "    </tr>\n",
       "    <tr>\n",
       "      <th>3</th>\n",
       "      <td>Bakhshi Stadium</td>\n",
       "      <td>30000</td>\n",
       "      <td>Srinagar</td>\n",
       "      <td>Jammu and Kashmir</td>\n",
       "      <td>No</td>\n",
       "      <td>No</td>\n",
       "      <td>Yes</td>\n",
       "      <td>No</td>\n",
       "      <td>34.083656</td>\n",
       "      <td>74.797371</td>\n",
       "    </tr>\n",
       "    <tr>\n",
       "      <th>4</th>\n",
       "      <td>Barabati Stadium</td>\n",
       "      <td>45000</td>\n",
       "      <td>Cuttack</td>\n",
       "      <td>Odisha</td>\n",
       "      <td>No</td>\n",
       "      <td>Yes</td>\n",
       "      <td>No</td>\n",
       "      <td>No</td>\n",
       "      <td>20.4625</td>\n",
       "      <td>85.8830</td>\n",
       "    </tr>\n",
       "  </tbody>\n",
       "</table>\n",
       "</div>"
      ],
      "text/plain": [
       "            Stadium  Capacity      City              State Hockey Cricket  \\\n",
       "0  Aishbagh Stadium     10000    Bhopal     Madhya Pradesh    Yes      No   \n",
       "1  Ambedkar Stadium     20000     Delhi          Delhi NCR     No      No   \n",
       "2  Baichung Stadium     30000    Namchi             Sikkim     No      No   \n",
       "3   Bakhshi Stadium     30000  Srinagar  Jammu and Kashmir     No      No   \n",
       "4  Barabati Stadium     45000   Cuttack             Odisha     No     Yes   \n",
       "\n",
       "  Football Athletics        lat        lon  \n",
       "0       No        No    23.2599    77.4126  \n",
       "1      Yes        No    28.7041    77.1025  \n",
       "2      Yes        No    27.1670    88.3652  \n",
       "3      Yes        No  34.083656  74.797371  \n",
       "4       No        No    20.4625    85.8830  "
      ]
     },
     "execution_count": 83,
     "metadata": {},
     "output_type": "execute_result"
    }
   ],
   "source": [
    "df3 = df2.drop(['search','coordinates'],1)\n",
    "df3.head()"
   ]
  },
  {
   "cell_type": "code",
   "execution_count": 88,
   "metadata": {},
   "outputs": [],
   "source": [
    "df3['lat'] = df3['lat'].astype('float')"
   ]
  },
  {
   "cell_type": "code",
   "execution_count": 89,
   "metadata": {},
   "outputs": [],
   "source": [
    "df3['lon'] = df3['lon'].astype('float')"
   ]
  },
  {
   "cell_type": "code",
   "execution_count": 90,
   "metadata": {},
   "outputs": [
    {
     "data": {
      "text/plain": [
       "Stadium       object\n",
       "Capacity       int64\n",
       "City          object\n",
       "State         object\n",
       "Hockey        object\n",
       "Cricket       object\n",
       "Football      object\n",
       "Athletics     object\n",
       "lat          float64\n",
       "lon          float64\n",
       "dtype: object"
      ]
     },
     "execution_count": 90,
     "metadata": {},
     "output_type": "execute_result"
    }
   ],
   "source": [
    "df3.dtypes"
   ]
  },
  {
   "cell_type": "code",
   "execution_count": 91,
   "metadata": {},
   "outputs": [],
   "source": [
    "df3.to_csv('stadium.csv')"
   ]
  },
  {
   "cell_type": "code",
   "execution_count": null,
   "metadata": {},
   "outputs": [],
   "source": []
  }
 ],
 "metadata": {
  "kernelspec": {
   "display_name": "Python 3",
   "language": "python",
   "name": "python3"
  },
  "language_info": {
   "codemirror_mode": {
    "name": "ipython",
    "version": 3
   },
   "file_extension": ".py",
   "mimetype": "text/x-python",
   "name": "python",
   "nbconvert_exporter": "python",
   "pygments_lexer": "ipython3",
   "version": "3.6.5"
  }
 },
 "nbformat": 4,
 "nbformat_minor": 2
}
